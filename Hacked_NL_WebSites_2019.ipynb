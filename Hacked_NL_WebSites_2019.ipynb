{
 "cells": [
  {
   "cell_type": "markdown",
   "metadata": {},
   "source": [
    "# Analyzes of Hacked Netherlands Websites (2019)"
   ]
  },
  {
   "cell_type": "markdown",
   "metadata": {},
   "source": [
    "In this study, we want to analyze the hacked (attacked by various methods) Netherlands Websites (extension of __.nl__) in 2019. For the study, we get the data from zone-h.org, which is an open-source database formed by attackers themselves. Because of the captcha warn, we use the cookies of our own browser which we used to access before.\n",
    "\n",
    "__We get the \"first 7 months of 2019\" data.__"
   ]
  },
  {
   "cell_type": "code",
   "execution_count": 1,
   "metadata": {},
   "outputs": [
    {
     "name": "stdout",
     "output_type": "stream",
     "text": [
      "Scrape is starting...\n",
      "http://www.zone-h.org/archive/filter=1/published=0/domain=.nl/fulltext=1/page=1\n",
      "Page 1 is complete\n",
      "http://www.zone-h.org/archive/filter=1/published=0/domain=.nl/fulltext=1/page=2\n",
      "Page 2 is complete\n",
      "http://www.zone-h.org/archive/filter=1/published=0/domain=.nl/fulltext=1/page=3\n",
      "Page 3 is complete\n",
      "http://www.zone-h.org/archive/filter=1/published=0/domain=.nl/fulltext=1/page=4\n",
      "Page 4 is complete\n",
      "Scrape the data of 2009 is finish\n",
      "The data is ready!\n"
     ]
    }
   ],
   "source": [
    "from bs4 import BeautifulSoup\n",
    "import pandas as pd\n",
    "import matplotlib.pyplot as plt\n",
    "import requests\n",
    "import datetime\n",
    "import calendar\n",
    "\n",
    "df=pd.DataFrame()\n",
    "start_date = pd.to_datetime('2019/01/01')\n",
    "print('Scrape is starting...')\n",
    "cookie = {'PHPSESSID': 'XXX','ZHE':'XXX'}\n",
    "page_no=1\n",
    "finish_date=pd.to_datetime('today')\n",
    "date_07=pd.to_datetime('2019/07/31')\n",
    "\n",
    "while finish_date>start_date:\n",
    "#while page_no<3:\n",
    "    url='http://www.zone-h.org/archive/filter=1/published=0/domain=.nl/fulltext=1/page={}'.format(page_no)\n",
    "    print(url)\n",
    "    response = requests.post(url, cookies=cookie)\n",
    "    data = response.text\n",
    "    soup = BeautifulSoup(data,'lxml')\n",
    "\n",
    "    for tr in soup.select('tr')[:-2]:\n",
    "        row = []\n",
    "        for td in tr.select('td'):\n",
    "            if td.text.strip():\n",
    "                row.append(td.text.strip())\n",
    "            else:\n",
    "                img = td.select_one('img[title]')\n",
    "                if img:\n",
    "                    row.append(img['title'])\n",
    "                else:\n",
    "                    row.append('')\n",
    "            a = [\"0\" if x == '' else x for x in row] #cleaning the NaN values as 0\n",
    "        df = df.append([a])\n",
    "    print('Page {} is complete'.format(page_no))\n",
    "    page_no+=1\n",
    "    df[0] = pd.to_datetime(df[0], errors='coerce', format='%Y/%m/%d') #Arrange the Time column\n",
    "    finish_date=df.nsmallest(1,columns = 0)[0][0] #find the smallest date for continuing to loopp\n",
    "else:\n",
    "#Set first row as header\n",
    "    df.columns = df.iloc[0]\n",
    "    df = df[1:]\n",
    "    df.rename(columns={ df.columns[0]: \"Time\",df.columns[5]: \"S_Location\",df.columns[6]: \"Special\" }, inplace = True)\n",
    "    df[\"S_Location\"] = df[\"S_Location\"].replace(\"0\", \"Unknown\")#Set the location value of 0 to Unknown\n",
    "    df[\"R\"] = df[\"R\"].replace(\"R\", \"1\")#Set the ReAttack value of R to 1\n",
    "    print('Scrape the data of 2009 is finish')\n",
    "    df = df[df.Time >= start_date] #eliminate the data before '2019/01/01'\n",
    "    df = df[date_07>= df.Time] #eliminate the data before '2019/07/31'\n",
    "    df=df.reset_index(drop=True)\n",
    "df.to_csv('Zone_H_{}.csv'.format(datetime.datetime.now().strftime('%d.%m.%Y_%H.%M')))#Save as csv file\n",
    "print('The data is ready!')"
   ]
  },
  {
   "cell_type": "markdown",
   "metadata": {},
   "source": [
    "#### The Dataframe Legend:\n",
    "**H** : Homepage defacement\n",
    "\n",
    "**M** : Mass defacement\n",
    "\n",
    "**R** : Redefacement\n",
    "\n",
    "**S_Location** : IP address location of web site server\n",
    "\n",
    "**Special** : Defacements of important websites"
   ]
  },
  {
   "cell_type": "code",
   "execution_count": 2,
   "metadata": {},
   "outputs": [
    {
     "name": "stdout",
     "output_type": "stream",
     "text": [
      "The total hacked (.nl) web sites in 2019 is: 88\n"
     ]
    },
    {
     "data": {
      "text/html": [
       "<div>\n",
       "<style scoped>\n",
       "    .dataframe tbody tr th:only-of-type {\n",
       "        vertical-align: middle;\n",
       "    }\n",
       "\n",
       "    .dataframe tbody tr th {\n",
       "        vertical-align: top;\n",
       "    }\n",
       "\n",
       "    .dataframe thead th {\n",
       "        text-align: right;\n",
       "    }\n",
       "</style>\n",
       "<table border=\"1\" class=\"dataframe\">\n",
       "  <thead>\n",
       "    <tr style=\"text-align: right;\">\n",
       "      <th></th>\n",
       "      <th>Time</th>\n",
       "      <th>Notifier</th>\n",
       "      <th>H</th>\n",
       "      <th>M</th>\n",
       "      <th>R</th>\n",
       "      <th>S_Location</th>\n",
       "      <th>Special</th>\n",
       "      <th>Domain</th>\n",
       "      <th>OS</th>\n",
       "      <th>View</th>\n",
       "    </tr>\n",
       "  </thead>\n",
       "  <tbody>\n",
       "    <tr>\n",
       "      <th>0</th>\n",
       "      <td>2019-07-31</td>\n",
       "      <td>Mister Spy</td>\n",
       "      <td>0</td>\n",
       "      <td>0</td>\n",
       "      <td>0</td>\n",
       "      <td>Ireland</td>\n",
       "      <td>0</td>\n",
       "      <td>www.marckollaart.nl//def.php</td>\n",
       "      <td>Linux</td>\n",
       "      <td>mirror</td>\n",
       "    </tr>\n",
       "    <tr>\n",
       "      <th>1</th>\n",
       "      <td>2019-07-31</td>\n",
       "      <td>Mister Spy</td>\n",
       "      <td>0</td>\n",
       "      <td>0</td>\n",
       "      <td>0</td>\n",
       "      <td>Netherlands</td>\n",
       "      <td>0</td>\n",
       "      <td>www.lotboes.nl//def.php</td>\n",
       "      <td>Linux</td>\n",
       "      <td>mirror</td>\n",
       "    </tr>\n",
       "    <tr>\n",
       "      <th>2</th>\n",
       "      <td>2019-07-31</td>\n",
       "      <td>Mister Spy</td>\n",
       "      <td>0</td>\n",
       "      <td>0</td>\n",
       "      <td>0</td>\n",
       "      <td>Netherlands</td>\n",
       "      <td>0</td>\n",
       "      <td>www.betamacx.nl//def.php</td>\n",
       "      <td>Linux</td>\n",
       "      <td>mirror</td>\n",
       "    </tr>\n",
       "    <tr>\n",
       "      <th>3</th>\n",
       "      <td>2019-07-31</td>\n",
       "      <td>Mister Spy</td>\n",
       "      <td>0</td>\n",
       "      <td>0</td>\n",
       "      <td>0</td>\n",
       "      <td>Netherlands</td>\n",
       "      <td>0</td>\n",
       "      <td>nooitmeerwatvangehoord.nl//def...</td>\n",
       "      <td>Linux</td>\n",
       "      <td>mirror</td>\n",
       "    </tr>\n",
       "    <tr>\n",
       "      <th>4</th>\n",
       "      <td>2019-07-31</td>\n",
       "      <td>Mister Spy</td>\n",
       "      <td>0</td>\n",
       "      <td>0</td>\n",
       "      <td>0</td>\n",
       "      <td>Netherlands</td>\n",
       "      <td>0</td>\n",
       "      <td>maxboes.nl//def.php</td>\n",
       "      <td>Linux</td>\n",
       "      <td>mirror</td>\n",
       "    </tr>\n",
       "  </tbody>\n",
       "</table>\n",
       "</div>"
      ],
      "text/plain": [
       "0       Time    Notifier  H  M  R   S_Location Special  \\\n",
       "0 2019-07-31  Mister Spy  0  0  0      Ireland       0   \n",
       "1 2019-07-31  Mister Spy  0  0  0  Netherlands       0   \n",
       "2 2019-07-31  Mister Spy  0  0  0  Netherlands       0   \n",
       "3 2019-07-31  Mister Spy  0  0  0  Netherlands       0   \n",
       "4 2019-07-31  Mister Spy  0  0  0  Netherlands       0   \n",
       "\n",
       "0                             Domain     OS    View  \n",
       "0       www.marckollaart.nl//def.php  Linux  mirror  \n",
       "1            www.lotboes.nl//def.php  Linux  mirror  \n",
       "2           www.betamacx.nl//def.php  Linux  mirror  \n",
       "3  nooitmeerwatvangehoord.nl//def...  Linux  mirror  \n",
       "4                maxboes.nl//def.php  Linux  mirror  "
      ]
     },
     "execution_count": 2,
     "metadata": {},
     "output_type": "execute_result"
    }
   ],
   "source": [
    "print('The total hacked (.nl) web sites in 2019 is: {}'.format(df.shape[0]))\n",
    "df.head()"
   ]
  },
  {
   "cell_type": "markdown",
   "metadata": {},
   "source": [
    "## Analyze of Data"
   ]
  },
  {
   "cell_type": "markdown",
   "metadata": {},
   "source": [
    "#### 1) Analyze the Attackers\n",
    "While analyze the 88 hacked web sites, we understood that __the (.nl) websites are attacked by 49 different attackers__, in 2019."
   ]
  },
  {
   "cell_type": "code",
   "execution_count": 3,
   "metadata": {},
   "outputs": [
    {
     "name": "stdout",
     "output_type": "stream",
     "text": [
      "88 (.nl) web sites in hacked 2019 by 49 different attackers\n"
     ]
    },
    {
     "data": {
      "text/html": [
       "<div>\n",
       "<style scoped>\n",
       "    .dataframe tbody tr th:only-of-type {\n",
       "        vertical-align: middle;\n",
       "    }\n",
       "\n",
       "    .dataframe tbody tr th {\n",
       "        vertical-align: top;\n",
       "    }\n",
       "\n",
       "    .dataframe thead th {\n",
       "        text-align: right;\n",
       "    }\n",
       "</style>\n",
       "<table border=\"1\" class=\"dataframe\">\n",
       "  <thead>\n",
       "    <tr style=\"text-align: right;\">\n",
       "      <th></th>\n",
       "      <th>Notifier</th>\n",
       "      <th>N_Count</th>\n",
       "    </tr>\n",
       "  </thead>\n",
       "  <tbody>\n",
       "    <tr>\n",
       "      <th>0</th>\n",
       "      <td>Mr.Hydra</td>\n",
       "      <td>12</td>\n",
       "    </tr>\n",
       "    <tr>\n",
       "      <th>1</th>\n",
       "      <td>SynnX</td>\n",
       "      <td>7</td>\n",
       "    </tr>\n",
       "    <tr>\n",
       "      <th>2</th>\n",
       "      <td>PhantomGhost</td>\n",
       "      <td>5</td>\n",
       "    </tr>\n",
       "    <tr>\n",
       "      <th>3</th>\n",
       "      <td>Mister Spy</td>\n",
       "      <td>5</td>\n",
       "    </tr>\n",
       "    <tr>\n",
       "      <th>4</th>\n",
       "      <td>GestapoEfsane</td>\n",
       "      <td>4</td>\n",
       "    </tr>\n",
       "  </tbody>\n",
       "</table>\n",
       "</div>"
      ],
      "text/plain": [
       "        Notifier  N_Count\n",
       "0       Mr.Hydra       12\n",
       "1          SynnX        7\n",
       "2   PhantomGhost        5\n",
       "3     Mister Spy        5\n",
       "4  GestapoEfsane        4"
      ]
     },
     "execution_count": 3,
     "metadata": {},
     "output_type": "execute_result"
    }
   ],
   "source": [
    "df_attacker=df.groupby(['Notifier']).Time.agg('count').to_frame('N_Count').sort_values(by = 'N_Count',ascending=False).reset_index()\n",
    "print('{} (.nl) web sites in hacked 2019 by {} different attackers'.format(format(df.shape[0]),df_attacker.shape[0]))\n",
    "df_attacker.head()"
   ]
  },
  {
   "cell_type": "markdown",
   "metadata": {},
   "source": [
    "#### 2) Analyze the Attacks By Monthly\n",
    "While analyze the 88 hacked web sites, we understood that __the (.nl) websites are attacked every month__, nearly the same average in 2019."
   ]
  },
  {
   "cell_type": "code",
   "execution_count": 4,
   "metadata": {},
   "outputs": [
    {
     "data": {
      "text/html": [
       "<div>\n",
       "<style scoped>\n",
       "    .dataframe tbody tr th:only-of-type {\n",
       "        vertical-align: middle;\n",
       "    }\n",
       "\n",
       "    .dataframe tbody tr th {\n",
       "        vertical-align: top;\n",
       "    }\n",
       "\n",
       "    .dataframe thead th {\n",
       "        text-align: right;\n",
       "    }\n",
       "</style>\n",
       "<table border=\"1\" class=\"dataframe\">\n",
       "  <thead>\n",
       "    <tr style=\"text-align: right;\">\n",
       "      <th></th>\n",
       "      <th>Time</th>\n",
       "      <th>Count</th>\n",
       "    </tr>\n",
       "  </thead>\n",
       "  <tbody>\n",
       "    <tr>\n",
       "      <th>0</th>\n",
       "      <td>(01) January</td>\n",
       "      <td>7</td>\n",
       "    </tr>\n",
       "    <tr>\n",
       "      <th>1</th>\n",
       "      <td>(02) February</td>\n",
       "      <td>9</td>\n",
       "    </tr>\n",
       "    <tr>\n",
       "      <th>2</th>\n",
       "      <td>(03) March</td>\n",
       "      <td>5</td>\n",
       "    </tr>\n",
       "    <tr>\n",
       "      <th>3</th>\n",
       "      <td>(04) April</td>\n",
       "      <td>15</td>\n",
       "    </tr>\n",
       "    <tr>\n",
       "      <th>4</th>\n",
       "      <td>(05) May</td>\n",
       "      <td>16</td>\n",
       "    </tr>\n",
       "    <tr>\n",
       "      <th>5</th>\n",
       "      <td>(06) June</td>\n",
       "      <td>15</td>\n",
       "    </tr>\n",
       "    <tr>\n",
       "      <th>6</th>\n",
       "      <td>(07) July</td>\n",
       "      <td>21</td>\n",
       "    </tr>\n",
       "  </tbody>\n",
       "</table>\n",
       "</div>"
      ],
      "text/plain": [
       "            Time  Count\n",
       "0   (01) January      7\n",
       "1  (02) February      9\n",
       "2     (03) March      5\n",
       "3     (04) April     15\n",
       "4       (05) May     16\n",
       "5      (06) June     15\n",
       "6      (07) July     21"
      ]
     },
     "execution_count": 4,
     "metadata": {},
     "output_type": "execute_result"
    }
   ],
   "source": [
    "df_daily=df.groupby(['Time']).Time.agg('count').to_frame('Count').reset_index() #group by day and create a new dataframe (df_daily)\n",
    "df_monthly=df_daily.groupby(df_daily['Time'].dt.strftime('(%m) %B'))['Count'].sum().reset_index() #group by month and create a new dataframe (df_monthly)\n",
    "df_monthly"
   ]
  },
  {
   "cell_type": "markdown",
   "metadata": {},
   "source": [
    "As we see in plot bar; the (.nl) websites are attacked every month and increasing monthly"
   ]
  },
  {
   "cell_type": "code",
   "execution_count": 5,
   "metadata": {},
   "outputs": [
    {
     "data": {
      "image/png": "[encoded data removed]",
      "text/plain": [
       "<Figure size 720x432 with 1 Axes>"
      ]
     },
     "metadata": {
      "needs_background": "light"
     },
     "output_type": "display_data"
    }
   ],
   "source": [
    "df_monthly.plot.bar(x=\"Time\", y=['Count'],stacked=True,color='orange',figsize=(10,6))\n",
    "plt.xlabel('Months of 2019') # x-label to the plot\n",
    "plt.ylabel('Total Number of Hacked Websites') # y-label to the plot\n",
    "plt.title('The Hacked .NL Websites in 2009') # title to the plot\n",
    "plt.yticks(list(range(4, 24,2))) #set the y tick\n",
    "plt.show()"
   ]
  },
  {
   "cell_type": "markdown",
   "metadata": {},
   "source": [
    "#### 3) Analyze the ReAttack Info\n",
    "While analyze the 88 hacked web sites, we understood that __23 (.nl) websites are also attacked before__, in 2019."
   ]
  },
  {
   "cell_type": "code",
   "execution_count": 6,
   "metadata": {},
   "outputs": [
    {
     "data": {
      "text/html": [
       "<div>\n",
       "<style scoped>\n",
       "    .dataframe tbody tr th:only-of-type {\n",
       "        vertical-align: middle;\n",
       "    }\n",
       "\n",
       "    .dataframe tbody tr th {\n",
       "        vertical-align: top;\n",
       "    }\n",
       "\n",
       "    .dataframe thead th {\n",
       "        text-align: right;\n",
       "    }\n",
       "</style>\n",
       "<table border=\"1\" class=\"dataframe\">\n",
       "  <thead>\n",
       "    <tr style=\"text-align: right;\">\n",
       "      <th></th>\n",
       "      <th>ReAttack</th>\n",
       "      <th>RA_Count</th>\n",
       "    </tr>\n",
       "  </thead>\n",
       "  <tbody>\n",
       "    <tr>\n",
       "      <th>0</th>\n",
       "      <td>0</td>\n",
       "      <td>65</td>\n",
       "    </tr>\n",
       "    <tr>\n",
       "      <th>1</th>\n",
       "      <td>1</td>\n",
       "      <td>23</td>\n",
       "    </tr>\n",
       "  </tbody>\n",
       "</table>\n",
       "</div>"
      ],
      "text/plain": [
       "  ReAttack  RA_Count\n",
       "0        0        65\n",
       "1        1        23"
      ]
     },
     "execution_count": 6,
     "metadata": {},
     "output_type": "execute_result"
    }
   ],
   "source": [
    "df_reattack=df.groupby(['R']).Time.agg('count').to_frame('RA_Count').sort_values(by = 'RA_Count',ascending=False).reset_index()\n",
    "df_reattack.rename(columns={ df_reattack.columns[0]: \"ReAttack\"}, inplace = True)\n",
    "df_reattack.head()"
   ]
  },
  {
   "cell_type": "markdown",
   "metadata": {},
   "source": [
    "As we see in pie chart; __26% of the total websites are also attacked before__ in 2019"
   ]
  },
  {
   "cell_type": "code",
   "execution_count": 7,
   "metadata": {},
   "outputs": [
    {
     "data": {
      "image/png": "[encoded data removed]",
      "text/plain": [
       "<Figure size 432x288 with 1 Axes>"
      ]
     },
     "metadata": {},
     "output_type": "display_data"
    }
   ],
   "source": [
    "#set the explode and colors\n",
    "explode = (0.2,0)\n",
    "colors = ['darkorange','khaki']\n",
    "plt.title('The ReAttacked Websites of .NL Websites in 2009') # title to the pie chart\n",
    "#show the pie chart\n",
    "plt.pie(df_reattack['RA_Count'], explode=explode,colors=colors,labels=('First Attack-{}'.format(df_reattack['RA_Count'][0]),'ReAttacked-{}'.format(df_reattack['RA_Count'][1])), autopct='%1.1f%%',counterclock=False, shadow=True)\n",
    "plt.tight_layout()\n",
    "plt.show()"
   ]
  },
  {
   "cell_type": "markdown",
   "metadata": {},
   "source": [
    "#### 4) Analyze the Server Locations:\n",
    "While analyze the 88 hacked web sites, we understood that the web sites exits in 8 different location (country)"
   ]
  },
  {
   "cell_type": "code",
   "execution_count": 8,
   "metadata": {},
   "outputs": [
    {
     "data": {
      "text/html": [
       "<div>\n",
       "<style scoped>\n",
       "    .dataframe tbody tr th:only-of-type {\n",
       "        vertical-align: middle;\n",
       "    }\n",
       "\n",
       "    .dataframe tbody tr th {\n",
       "        vertical-align: top;\n",
       "    }\n",
       "\n",
       "    .dataframe thead th {\n",
       "        text-align: right;\n",
       "    }\n",
       "</style>\n",
       "<table border=\"1\" class=\"dataframe\">\n",
       "  <thead>\n",
       "    <tr style=\"text-align: right;\">\n",
       "      <th></th>\n",
       "      <th>S_Location</th>\n",
       "      <th>L_Count</th>\n",
       "    </tr>\n",
       "  </thead>\n",
       "  <tbody>\n",
       "    <tr>\n",
       "      <th>0</th>\n",
       "      <td>Netherlands</td>\n",
       "      <td>75</td>\n",
       "    </tr>\n",
       "    <tr>\n",
       "      <th>1</th>\n",
       "      <td>Germany</td>\n",
       "      <td>3</td>\n",
       "    </tr>\n",
       "    <tr>\n",
       "      <th>2</th>\n",
       "      <td>United States</td>\n",
       "      <td>3</td>\n",
       "    </tr>\n",
       "    <tr>\n",
       "      <th>3</th>\n",
       "      <td>Ireland</td>\n",
       "      <td>2</td>\n",
       "    </tr>\n",
       "    <tr>\n",
       "      <th>4</th>\n",
       "      <td>United Kingdom</td>\n",
       "      <td>2</td>\n",
       "    </tr>\n",
       "    <tr>\n",
       "      <th>5</th>\n",
       "      <td>Belgium</td>\n",
       "      <td>1</td>\n",
       "    </tr>\n",
       "    <tr>\n",
       "      <th>6</th>\n",
       "      <td>Greece</td>\n",
       "      <td>1</td>\n",
       "    </tr>\n",
       "    <tr>\n",
       "      <th>7</th>\n",
       "      <td>Unknown</td>\n",
       "      <td>1</td>\n",
       "    </tr>\n",
       "  </tbody>\n",
       "</table>\n",
       "</div>"
      ],
      "text/plain": [
       "       S_Location  L_Count\n",
       "0     Netherlands       75\n",
       "1         Germany        3\n",
       "2   United States        3\n",
       "3         Ireland        2\n",
       "4  United Kingdom        2\n",
       "5         Belgium        1\n",
       "6          Greece        1\n",
       "7         Unknown        1"
      ]
     },
     "execution_count": 8,
     "metadata": {},
     "output_type": "execute_result"
    }
   ],
   "source": [
    "df_location=df.groupby(['S_Location']).Time.agg('count').to_frame('L_Count').sort_values(by = 'L_Count',ascending=False).reset_index()\n",
    "df_location"
   ]
  },
  {
   "cell_type": "markdown",
   "metadata": {},
   "source": [
    "As we see in pie chart; nearly __15% of the websites__ are located outside of Netherlands"
   ]
  },
  {
   "cell_type": "code",
   "execution_count": 10,
   "metadata": {},
   "outputs": [
    {
     "data": {
      "image/png": "[encoded data removed]",
      "text/plain": [
       "<Figure size 432x288 with 1 Axes>"
      ]
     },
     "metadata": {},
     "output_type": "display_data"
    }
   ],
   "source": [
    "#set the explode and colors\n",
    "explode = (0.2,0,0,0,0,0,0,0)\n",
    "colors = ['darkorange','goldenrod','tan','moccasin','linen','gold','khaki','yellowgreen']\n",
    "plt.title('The Server Location of Attacked .NL Websites in 2009') # title to the pie chart\n",
    "#show the pie chart\n",
    "plt.pie(df_location['L_Count'], explode=explode,colors=colors,labels=df_location['S_Location'], autopct='%1.1f%%',counterclock=False, shadow=True,startangle=180)\n",
    "plt.tight_layout()\n",
    "plt.axis('scaled')\n",
    "plt.show()"
   ]
  },
  {
   "cell_type": "markdown",
   "metadata": {},
   "source": [
    "## Result and Evaluation"
   ]
  },
  {
   "cell_type": "markdown",
   "metadata": {},
   "source": [
    "We understood in this study;\n",
    "- 88 (.nl) websites are attacked (hacked) in the first 7 months of 2019.\n",
    "- Websites are attacked by 49 different attackers\n",
    "- Websites are attacked every month and increasing monthly\n",
    "- __23 websites (26% of total) are also attacked before__\n",
    "- Websites exits 8 different country and nearly 15% them are located outside of Netherlands"
   ]
  }
 ],
 "metadata": {
  "kernelspec": {
   "display_name": "Python 3",
   "language": "python",
   "name": "python3"
  },
  "language_info": {
   "codemirror_mode": {
    "name": "ipython",
    "version": 3
   },
   "file_extension": ".py",
   "mimetype": "text/x-python",
   "name": "python",
   "nbconvert_exporter": "python",
   "pygments_lexer": "ipython3",
   "version": "3.7.1"
  }
 },
 "nbformat": 4,
 "nbformat_minor": 2
}
